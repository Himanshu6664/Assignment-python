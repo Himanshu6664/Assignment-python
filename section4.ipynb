{
 "cells": [
  {
   "cell_type": "markdown",
   "metadata": {},
   "source": [
    "# Section 4: Classes"
   ]
  },
  {
   "cell_type": "markdown",
   "metadata": {},
   "source": [
    "# 1. Rectangle Class:Define a class Rectangle with:\n",
    "○ Two attributes: length and width.\n",
    "○ A method area() to calculate the area.\n",
    "○ A method perimeter() to calculate the perimeter.\n"
   ]
  },
  {
   "cell_type": "code",
   "execution_count": 28,
   "metadata": {},
   "outputs": [
    {
     "name": "stdout",
     "output_type": "stream",
     "text": [
      "Area: 36\n",
      "Perimeter: 24\n"
     ]
    }
   ],
   "source": [
    "class Rectangle:\n",
    "    def __init__(self , length , width):\n",
    "        self.length = length\n",
    "        self.width = width\n",
    "    \n",
    "    def area(self):\n",
    "        return self.length * self.width\n",
    "    \n",
    "    def perimeter(self):\n",
    "        return 2 * (self.length + self.width)\n",
    "    \n",
    "\n",
    "rect = Rectangle(6 , 6)\n",
    "\n",
    "print(f\"Area: {rect.area()}\")\n",
    "print(f\"Perimeter: {rect.perimeter()}\")    "
   ]
  },
  {
   "cell_type": "markdown",
   "metadata": {},
   "source": [
    "# 2. Student Class: Create a class Student with:\n",
    "○ Attributes: name, roll_number, and marks.\n",
    "○ A method display_details() to print the student's details.\n",
    "○ A method is_passed() that returns True if marks ≥ 40, else\n",
    "False."
   ]
  },
  {
   "cell_type": "code",
   "execution_count": 34,
   "metadata": {},
   "outputs": [
    {
     "name": "stdout",
     "output_type": "stream",
     "text": [
      "Name: Himanshu\n",
      "Roll Number: 234\n",
      "Mark: 88\n",
      "Passed: True\n",
      "--------------------------------------------\n",
      "Name: Luffy\n",
      "Roll Number: 256\n",
      "Mark: 39\n",
      "Passed: False\n"
     ]
    }
   ],
   "source": [
    "class Student:\n",
    "    def __init__(self , name , roll_number , mark):\n",
    "        self.name = name\n",
    "        self.roll_number = roll_number\n",
    "        self.mark = mark\n",
    "\n",
    "    def display_detials(self):\n",
    "        print(f\"Name: {self.name}\\nRoll Number: {self.roll_number}\\nMark: {self.mark}\")\n",
    "\n",
    "    def is_passed(self):\n",
    "        return self.mark >= 40\n",
    "\n",
    "std1 = Student(\"Himanshu\" , 234 , 88)\n",
    "std1.display_detials()\n",
    "print(\"Passed:\",std1.is_passed())\n",
    "\n",
    "print(\"--------------------------------------------\")\n",
    "\n",
    "std2 = Student(\"Luffy\" , 256 , 39)\n",
    "std2.display_detials()\n",
    "print(\"Passed:\",std2.is_passed())"
   ]
  },
  {
   "cell_type": "markdown",
   "metadata": {},
   "source": [
    "# 3. Define a class Circle with:\n",
    "● Attribute: radius.\n",
    "● Methods: area() to calculate the area, circumference() to\n",
    "calculate the circumference."
   ]
  },
  {
   "cell_type": "code",
   "execution_count": 60,
   "metadata": {},
   "outputs": [
    {
     "name": "stdout",
     "output_type": "stream",
     "text": [
      "Area: 113.10\n",
      "Circumference: 37.70\n",
      "---------------------------\n",
      "Area: 28.27\n",
      "Circumference: 18.85\n"
     ]
    }
   ],
   "source": [
    "import math\n",
    "\n",
    "class Circle:\n",
    "    def __init__(self, radius):\n",
    "        self.radius = radius\n",
    "\n",
    "    def area(self):\n",
    "        return math.pi * self.radius ** 2\n",
    "    \n",
    "    def circumderence(self):\n",
    "        return 2 * math.pi * self.radius\n",
    "    \n",
    "\n",
    "cir = Circle(6)\n",
    "print(f\"Area: {cir.area():.2f}\")\n",
    "print(f\"Circumference: {cir.circumderence():.2f}\")\n",
    "\n",
    "print(\"---------------------------\")\n",
    "\n",
    "cir1 = Circle(3)\n",
    "print(f\"Area: {cir1.area():.2f}\")\n",
    "print(f\"Circumference: {cir1.circumderence():.2f}\")\n"
   ]
  },
  {
   "cell_type": "markdown",
   "metadata": {},
   "source": [
    "# 4. Create a class BankAccount with:\n",
    "● Attributes: account_number, account_holder, balance.\n",
    "● Methods:\n",
    "○ deposit(amount) to add money to the account.\n",
    "○ withdraw(amount) to subtract money (if sufficient\n",
    "balance is available).\n",
    "○ display_balance() to print the current balance.\n"
   ]
  },
  {
   "cell_type": "code",
   "execution_count": 78,
   "metadata": {},
   "outputs": [
    {
     "name": "stdout",
     "output_type": "stream",
     "text": [
      "Deposit Balance:Rs800, New Balance:Rs1800 \n",
      "Withdraw Balance:Rs400, New Balance:Rs1400 \n",
      "Current Balance: 1400\n"
     ]
    }
   ],
   "source": [
    "class BankAccount:\n",
    "\n",
    "    def __init__(self, account_number , account_holder , balance):\n",
    "        self.account_number = account_number\n",
    "        self.account_holder = account_holder\n",
    "        self.balance = balance\n",
    "\n",
    "    def deposit(self , amount):\n",
    "        self.balance += amount\n",
    "        print(f\"Deposit Balance:Rs{amount}, New Balance:Rs{self.balance} \")\n",
    "    \n",
    "    def withdraw(self , amount):\n",
    "        if amount > self.balance:\n",
    "            return 'Insufficient Balance.'\n",
    "        else:\n",
    "            self.balance -= amount\n",
    "            print(f\"Withdraw Balance:Rs{amount}, New Balance:Rs{self.balance} \")\n",
    "        \n",
    "    def display_balance(self):\n",
    "        print(f\"Current Balance: {self.balance}\")\n",
    "    \n",
    "\n",
    "account = BankAccount(5034 , \"Zoro\" , 1000)\n",
    "account.deposit(800)\n",
    "account.withdraw(400)\n",
    "account.display_balance()"
   ]
  },
  {
   "cell_type": "markdown",
   "metadata": {},
   "source": [
    "# 5. A class Book with:\n",
    "● Attributes: title, author, price.\n",
    "● Methods:\n",
    "○ apply_discount(discount) to reduce the price by a\n",
    "given percentage.\n",
    "○ display_details() to print the book details.\n"
   ]
  },
  {
   "cell_type": "code",
   "execution_count": 91,
   "metadata": {},
   "outputs": [
    {
     "name": "stdout",
     "output_type": "stream",
     "text": [
      "Book Title: THE ALCHEMIST\n",
      "Book Author: panlo coelno\n",
      "Book Price: Rs4333.5\n"
     ]
    }
   ],
   "source": [
    "class Book:\n",
    "    def __init__(self, author , title , price):\n",
    "        self.author = author\n",
    "        self.title = title\n",
    "        self.price = price\n",
    "\n",
    "    def apply_discount(self , discount):\n",
    "        if 0 <= discount <= 100:\n",
    "            self.price -= (discount / 100) * self.price\n",
    "            return self.price\n",
    "        else:\n",
    "            print(\"Invalid Discound percentage. please provide a value between 0 to 100\")\n",
    "\n",
    "    def display_details(self):\n",
    "        print(f\"Book Title: {self.title}\\nBook Author: {self.author}\\nBook Price: Rs{self.price}\") \n",
    "\n",
    "book1 = Book(\"panlo coelno\" , \"THE ALCHEMIST\" , 5000)\n",
    "book1.apply_discount(13.33)\n",
    "book1.display_details()"
   ]
  },
  {
   "cell_type": "markdown",
   "metadata": {},
   "source": [
    "# 6. Create a class Calculator with:\n",
    "○ A method add(a, b) to add two numbers.\n",
    "○ A method subtract(a, b) to subtract two numbers.\n",
    "○ A method multiply(a, b) to multiply two numbers.\n",
    "○ A method divide(a, b) to divide two numbers (handle division\n",
    "by zero gracefully).\n"
   ]
  },
  {
   "cell_type": "code",
   "execution_count": 107,
   "metadata": {},
   "outputs": [
    {
     "name": "stdout",
     "output_type": "stream",
     "text": [
      "Add: 15\n",
      "Subtrace: 4\n",
      "Multiply: 50\n",
      "Divide: Division by Zero is not allowed\n"
     ]
    }
   ],
   "source": [
    "class Calculator:\n",
    "     \n",
    "    def add(self , a , b):\n",
    "        return a  + b\n",
    "    \n",
    "    def subtract(self , a , b):\n",
    "        return a  - b\n",
    "    \n",
    "    def multiply(self , a , b):\n",
    "        return a  * b\n",
    "    \n",
    "    def divide(self , a , b):\n",
    "        if b != 0:\n",
    "            return a  / b\n",
    "        \n",
    "        return\"Division by Zero is not allowed\"\n",
    "\n",
    "cal = Calculator()\n",
    "print(f\"Add: {cal.add(10 , 5)}\")\n",
    "print(f\"Subtrace: {cal.subtract(10 , 6)}\")\n",
    "print(f\"Multiply: {cal.multiply( 10 ,5)}\")\n",
    "print(f\"Divide: {cal.divide(10 ,0)}\")"
   ]
  },
  {
   "cell_type": "markdown",
   "metadata": {},
   "source": [
    "# 7. Write a class Person with:\n",
    "○ Attributes: name, age, gender.\n",
    "○ Method introduce() to print a message like: \"Hello, my name\n",
    "is [name], I am [age] years old, and I am a [gender].\"\n",
    "○ Create a subclass Employee that adds:\n",
    "■ Attribute: job_title.\n",
    "■ Override introduce() to include the job title."
   ]
  },
  {
   "cell_type": "code",
   "execution_count": 114,
   "metadata": {},
   "outputs": [
    {
     "name": "stdout",
     "output_type": "stream",
     "text": [
      "Hello, my name is Luffy, I am 21 years old, and I am a Male.\n",
      "------------------------------------------------------------------------------\n",
      "Hello, my name is Luffy, I am 21 years old, I am a Male, and I work as Pirate\n"
     ]
    }
   ],
   "source": [
    "class Person:\n",
    "    def __init__(self, name  , age  , gender ):\n",
    "        self.name = name\n",
    "        self.age = age\n",
    "        self.gender = gender\n",
    "\n",
    "    def introduce(self):\n",
    "        print(f\"Hello, my name is {self.name}, I am {self.age} years old, and I am a {self.gender}.\")\n",
    "\n",
    "class Employee(Person):\n",
    "\n",
    "    def __init__(self ,name :str , age  , gender , job_title ):\n",
    "        super().__init__(name , age, gender ) \n",
    "        self.job_title = job_title\n",
    "\n",
    "    def introduce(self):\n",
    "        print(f\"Hello, my name is {self.name}, I am {self.age} years old, I am a {self.gender}, and I work as {self.job_title}\")\n",
    "\n",
    "person1 = Person(\"Luffy\" , 21 , \"Male\")\n",
    "person1.introduce()\n",
    "\n",
    "print(\"------------------------------------------------------------------------------\")\n",
    "\n",
    "employee1 = Employee(\"Luffy\" , 21 , \"Male\" , \"Pirate\")\n",
    "employee1.introduce()\n",
    "        \n",
    "\n",
    "    "
   ]
  }
 ],
 "metadata": {
  "kernelspec": {
   "display_name": "Python 3",
   "language": "python",
   "name": "python3"
  },
  "language_info": {
   "codemirror_mode": {
    "name": "ipython",
    "version": 3
   },
   "file_extension": ".py",
   "mimetype": "text/x-python",
   "name": "python",
   "nbconvert_exporter": "python",
   "pygments_lexer": "ipython3",
   "version": "3.10.4"
  }
 },
 "nbformat": 4,
 "nbformat_minor": 2
}
