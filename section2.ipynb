{
 "cells": [
  {
   "cell_type": "markdown",
   "metadata": {},
   "source": [
    "# Section 2: For Loops"
   ]
  },
  {
   "cell_type": "markdown",
   "metadata": {},
   "source": [
    "# 6. Multiplication Table: Write a Python program to print the multiplication table of a given number using a for loop.\n",
    "Example:\n",
    "○ Input: 5\n",
    "○ Output: 5, 10, 15, ..., 50\n"
   ]
  },
  {
   "cell_type": "code",
   "execution_count": 22,
   "metadata": {},
   "outputs": [
    {
     "name": "stdout",
     "output_type": "stream",
     "text": [
      "Input:5\n",
      "Output: \n",
      "5 * 1 = 5\n",
      "5 * 2 = 10\n",
      "5 * 3 = 15\n",
      "5 * 4 = 20\n",
      "5 * 5 = 25\n",
      "5 * 6 = 30\n",
      "5 * 7 = 35\n",
      "5 * 8 = 40\n",
      "5 * 9 = 45\n",
      "5 * 10 = 50\n"
     ]
    }
   ],
   "source": [
    "given_number = int(input(\"Enter any positive number: \"))\n",
    "print(f\"Input:{given_number}\")\n",
    "print(\"Output: \")\n",
    "\n",
    "for i in range(1 , 11):\n",
    "    print(f\"{given_number} * {i} = {given_number * i}\")\n",
    "    "
   ]
  },
  {
   "cell_type": "markdown",
   "metadata": {},
   "source": [
    "# 7. Count Vowels: Write a program to count and display the number of vowels in a given string."
   ]
  },
  {
   "cell_type": "code",
   "execution_count": 4,
   "metadata": {},
   "outputs": [
    {
     "name": "stdout",
     "output_type": "stream",
     "text": [
      "The word apple has 2 Vowwels in it\n"
     ]
    }
   ],
   "source": [
    "strings = input(\"provide any word \")\n",
    "vowels = \"aeiouAEIOU\"\n",
    "count = 0\n",
    "\n",
    "for char in strings:\n",
    "    if char in  vowels:\n",
    "        count += 1 \n",
    "print(f\"The word {strings} has {count} Vowwels in it\")\n",
    "\n",
    "        \n",
    "\n",
    "\n"
   ]
  },
  {
   "cell_type": "markdown",
   "metadata": {},
   "source": [
    "# 8. Sum of Even Numbers Create a program to find the sum of all even numbers in a list using a for loop.\n",
    "Example:\n",
    "○ Input: [2, 5, 8, 3]\n",
    "○ Output: 10"
   ]
  },
  {
   "cell_type": "code",
   "execution_count": null,
   "metadata": {},
   "outputs": [
    {
     "name": "stdout",
     "output_type": "stream",
     "text": [
      "Input: [2, 5, 8, 3]\n",
      "Output: 10\n"
     ]
    }
   ],
   "source": [
    "sum_even = 0\n",
    "numbers = input(\"Enter the number also provide space to seprate the number\") # Asking user to input number in string from.\n",
    "number_list = [int(num) for num in numbers.split()] # for loop iterates over each substring and int(num) convert the substring into  integers\n",
    "\n",
    "for even_num in number_list:\n",
    "    if even_num % 2 == 0:\n",
    "        sum_even += even_num\n",
    "\n",
    "print(f\"Input: {number_list}\\nOutput: {sum_even}\")"
   ]
  },
  {
   "cell_type": "markdown",
   "metadata": {},
   "source": [
    "# 9. Create a program to find the largest and smallest numbers in a list using a for loop.\n",
    "Example:\n",
    "○ Input = [10, 20, 5, 8], Output = Largest = 20, Smallest = 5\n"
   ]
  },
  {
   "cell_type": "code",
   "execution_count": 41,
   "metadata": {},
   "outputs": [
    {
     "name": "stdout",
     "output_type": "stream",
     "text": [
      "Input: [10, 20, 5, 8]\n",
      "Output: Largest= 20, Smallest = 5\n"
     ]
    }
   ],
   "source": [
    "\n",
    "number = input(\"Enter the number with space to seprate the number\")\n",
    "number_list = [int(num) for num in number.split()]\n",
    "print(f\"Input: {number_list}\")\n",
    "\n",
    "largest = number_list[0]\n",
    "smallest = number_list[0]\n",
    "\n",
    "for numb in number_list:\n",
    "    if numb > largest:\n",
    "        largest = numb\n",
    "    if numb < smallest:\n",
    "        smallest = numb\n",
    "print(f\"Output: Largest= {largest}, Smallest = {smallest}\")\n",
    "\n",
    "\n"
   ]
  },
  {
   "cell_type": "markdown",
   "metadata": {},
   "source": [
    "# 10. Write a program to calculate the sum of digits of a given number using a for loop.\n"
   ]
  },
  {
   "cell_type": "code",
   "execution_count": 44,
   "metadata": {},
   "outputs": [
    {
     "name": "stdout",
     "output_type": "stream",
     "text": [
      "Input: 1234\n",
      "Output: 10\n"
     ]
    }
   ],
   "source": [
    "digits = int(input(\"Enter any positive digits: \"))\n",
    "print(f\"Input: {digits}\")\n",
    "sum = 0\n",
    "\n",
    "for dig in str(digits):\n",
    "    sum += int(dig)\n",
    "print(f\"Output: {sum}\")\n"
   ]
  },
  {
   "cell_type": "markdown",
   "metadata": {},
   "source": [
    "# 11. Write a program to reverse a given string using a for loop.\n",
    "Example: Input = \"Python\", Output = \"nohtyP\""
   ]
  },
  {
   "cell_type": "code",
   "execution_count": 13,
   "metadata": {},
   "outputs": [
    {
     "name": "stdout",
     "output_type": "stream",
     "text": [
      "Input: Python\n",
      "Output: nohtyP\n"
     ]
    }
   ],
   "source": [
    "strings = input(\"Input any string of your choice: \")\n",
    "reversed_String = \"\"\n",
    "print(f\"Input: {strings}\")\n",
    "\n",
    "for char in strings:\n",
    "   reversed_String =  char +  reversed_String\n",
    "print(f\"Output: {reversed_String}\")\n",
    "    \n"
   ]
  }
 ],
 "metadata": {
  "kernelspec": {
   "display_name": "Python 3",
   "language": "python",
   "name": "python3"
  },
  "language_info": {
   "codemirror_mode": {
    "name": "ipython",
    "version": 3
   },
   "file_extension": ".py",
   "mimetype": "text/x-python",
   "name": "python",
   "nbconvert_exporter": "python",
   "pygments_lexer": "ipython3",
   "version": "3.10.4"
  }
 },
 "nbformat": 4,
 "nbformat_minor": 2
}
